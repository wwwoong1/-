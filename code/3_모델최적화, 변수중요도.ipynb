{
 "cells": [
  {
   "cell_type": "markdown",
   "metadata": {},
   "source": [
    "# 숙제 입니다\n",
    "- 아래 코드를 활용해서 lightgbm 의 최적의 파라미터를 찾고\n",
    "- 찾은 파라미터로 모델을 만들어 평가지표들을 확인하고\n",
    "- 변수마다의 변수중요도를 출력하시면 됩니다.-----구글링 하면 변수중요도 출력하는 방법 나옵니다.\n",
    "- 데이터 불러오는거는 잘 하실 수 있으실거라 믿습니다."
   ]
  },
  {
   "cell_type": "code",
   "execution_count": null,
   "metadata": {},
   "outputs": [],
   "source": [
    "from lightgbm import LGBMClassifier\n",
    "from sklearn.model_selection import GridSearchCV\n",
    "\n",
    "params = {'max_depth': [15, 20, 25],\n",
    "          'min_child_samples': [15, 20, 25],\n",
    "          'subsample': [0.8, 1]}\n",
    "\n",
    "# LGBMClassifier 객체 생성 후 GridSearchCV 수행\n",
    "model_lgbm = LGBMClassifier(n_estimators=500, random_state=10, n_jobs = -1)\n",
    "grid_cv = GridSearchCV(model_lgbm, param_grid = params, cv = 5, n_jobs = -1)\n",
    "grid_cv.fit(X_train, y_train)\n",
    "\n",
    "print('최적 하이퍼 파라미터: ', grid_cv.best_params_)\n",
    "print('최고 예측 정확도: {:.4f}'.format(grid_cv.best_score_))"
   ]
  },
  {
   "cell_type": "code",
   "execution_count": null,
   "metadata": {},
   "outputs": [],
   "source": [
    "from sklearn.metrics import accuracy_score\n",
    "from sklearn.metrics import recall_score\n",
    "from sklearn.metrics import precision_score\n",
    "from sklearn.metrics import f1_score\n",
    "from sklearn.metrics import roc_auc_score\n",
    "\n",
    "model_lgbm = grid_cv.best_estimator_\n",
    "model_lgbm.fit(X_train, y_train)\n",
    "preds = model_lgbm.predict(X_test)\n",
    "\n",
    "print(\"Accuracy Score : \",accuracy_score(y_test, preds))\n",
    "print(\"Recall Score : \",recall_score(y_test, preds))\n",
    "print(\"Precision Score : \",precision_score(y_test, preds))\n",
    "print(\"f1_Score : \",f1_score(y_test, preds))\n",
    "print(\"roc_auc_Score : \",roc_auc_score(y_test, preds))"
   ]
  }
 ],
 "metadata": {
  "language_info": {
   "name": "python"
  },
  "orig_nbformat": 4
 },
 "nbformat": 4,
 "nbformat_minor": 2
}
